{
 "cells": [
  {
   "cell_type": "markdown",
   "metadata": {},
   "source": [
    "## Cleaning up and transforming data in the raw excel sheet\n"
   ]
  },
  {
   "cell_type": "code",
   "execution_count": 12,
   "metadata": {},
   "outputs": [],
   "source": [
    "import pandas as pd\n",
    "\n",
    "data = pd.read_excel(\"rawData.xlsx\")"
   ]
  },
  {
   "cell_type": "markdown",
   "metadata": {},
   "source": [
    "### 1. Clean up Author Names\n",
    "\n",
    "Replaced letters with accents with it's anglaphied pair, removed occurences of the character ~, and removed curly brackets around a word({ }).\n"
   ]
  },
  {
   "cell_type": "code",
   "execution_count": 13,
   "metadata": {},
   "outputs": [],
   "source": [
    "import re\n",
    "\n",
    "def remove_tex_accents(text):\n",
    "    patterns = [\n",
    "        (r\"{\\\\'\\s*(\\w)}\", r\"\\1\"),     # \\'e -> e\n",
    "        (r\"{\\\\`\\s*(\\w)}\", r\"\\1\"),     # \\`e -> e\n",
    "        (r\"{\\\\\\^\\s*(\\w)}\", r\"\\1\"),     # \\^e -> e\n",
    "        (r\"{\\\\\\\"\\s*(\\w)}\", r\"\\1\"),    # \\\"e -> e\n",
    "        (r\"{\\\\~\\s*(\\w)}\", r\"\\1\"),     # \\~e -> e\n",
    "        (r\"{\\\\=\\s*(\\w)}\", r\"\\1\"),     # \\=e -> e\n",
    "        (r\"{\\\\u\\s*(\\w)}\", r\"\\1\"),     # \\ue -> e\n",
    "        (r\"{\\\\v\\s*(\\w)}\", r\"\\1\"),     # \\ve -> e\n",
    "        (r\"{\\\\c\\s*(\\w)}\", r\"\\1\"),     # \\ce -> e\n",
    "        (r\"{\\\\d\\s*(\\w)}\", r\"\\1\"),     # \\de -> e\n",
    "        (r\"{\\\\H\\s*(\\w)}\", r\"\\1\"),     # \\He -> e\n",
    "        (r\"{\\\\t\\s*(\\w)}\", r\"\\1\"),     # \\te -> e\n",
    "        (r\"{\\\\b\\s*(\\w)}\", r\"\\1\"),     # \\be -> e\n",
    "        (r\"{\\\\k\\s*(\\w)}\", r\"\\1\"),     # \\ke -> e\n",
    "        (r\"{\\\\r\\s*(\\w)}\", r\"\\1\"),     # \\re -> e\n",
    "        (r\"{\\\\c\\s*(\\w)}\",r\"\\1\"),     # {\\c c} -> c\n",
    "        (r\"{\\\\H\\s*(\\w)}\",r\"\\1\"),     # {\\H c} -> c\n",
    "        (r\"{\\\\(ae)}\",r\"\\1\"),     #{\\ae} -> ae\n",
    "        (r\"{(\\S*)}\",r\"\\1\"),      #{someLetters} -> someLetters \n",
    "        (r\"(~)\",r\"\")             # ~ -> \n",
    "    ]\n",
    "#{\\^o}\n",
    "    for pattern, replacement in patterns:\n",
    "        text = re.sub(pattern, replacement, text)\n",
    "\n",
    "    return text\n",
    "\n",
    "data[\"Old Authors Data\"] = data[\"Authors\"]\n",
    "data[\"Authors\"] = data[\"Authors\"].map(lambda d: remove_tex_accents(d))\n"
   ]
  },
  {
   "cell_type": "markdown",
   "metadata": {},
   "source": [
    "## 2. Clean up the title\n",
    "\n",
    "Replaced {{ }} or {{{ }}} surrounding words, with just the inner words, and replaced occurences of -- or --- with just a -\n"
   ]
  },
  {
   "cell_type": "code",
   "execution_count": 14,
   "metadata": {},
   "outputs": [],
   "source": [
    "def cleanUpTitle(text):\n",
    "    \n",
    "    patterns = [\n",
    "        (r'{{|}}', ''),\n",
    "        (r'---|--', '-')\n",
    "    ]\n",
    "\n",
    "    for pattern, replacement in patterns:\n",
    "        text = re.sub(pattern, replacement, text)\n",
    "\n",
    "    return text\n",
    "\n",
    "data[\"Old Title\"] = data[\"Title\"]\n",
    "data[\"Title\"] = data[\"Title\"].map(lambda d: cleanUpTitle(str(d)))"
   ]
  },
  {
   "cell_type": "code",
   "execution_count": 15,
   "metadata": {},
   "outputs": [
    {
     "data": {
      "text/plain": [
       "\" for index, row in data.iterrows():\\n    print(row['Title'])\\n    print(row['Old Title'])\\n    print(index)\""
      ]
     },
     "execution_count": 15,
     "metadata": {},
     "output_type": "execute_result"
    }
   ],
   "source": [
    "\"\"\" for index, row in data.iterrows():\n",
    "    print(row['Title'])\n",
    "    print(row['Old Title'])\n",
    "    print(index)\"\"\"\n",
    "#262 ``How Local Is Local?''---A Review of Practical and Conceptual Issues in the Genetics of Restoration\n",
    "#362 is nan"
   ]
  },
  {
   "cell_type": "markdown",
   "metadata": {},
   "source": [
    "## 3. Clean up Journal Title\n",
    "\n",
    "Replaced '\\\\&' to '&'\n",
    "\n",
    "I still have to replace some of na values.\n"
   ]
  },
  {
   "cell_type": "code",
   "execution_count": 16,
   "metadata": {},
   "outputs": [],
   "source": [
    "#\n",
    "def cleanUpJournal(text):\n",
    "    patterns = [\n",
    "        (r'\\\\&', r\"&\")\n",
    "    ]\n",
    "    for pattern, replacement in patterns:\n",
    "        text = re.sub(pattern, replacement, text)\n",
    "    return text\n",
    "\n",
    "\n",
    "data[\"Old Journal\"] = data[\"Journal\"]\n",
    "data[\"Journal\"] = data[\"Journal\"].map(lambda d: cleanUpJournal(str(d)))"
   ]
  },
  {
   "cell_type": "markdown",
   "metadata": {},
   "source": [
    "## 4. Generate the Journal Abbreviations\n",
    "\n",
    "I looked at all the unique journal names and made a dictionary with those names as the key, and then automatically use that dictionary to generate a Jounral Abbrevation column.\n"
   ]
  },
  {
   "cell_type": "code",
   "execution_count": 17,
   "metadata": {},
   "outputs": [
    {
     "data": {
      "text/plain": [
       "array(['Annals of the New York Academy of Sciences',\n",
       "       'Annual Review of Ecology and Systematics',\n",
       "       'Annual Review of Ecology, Evolution, and Systematics',\n",
       "       'Annual Review of Genetics', 'Behavioral Ecology and Sociobiology',\n",
       "       'BioScience', 'Bulletin of Mathematical Biology',\n",
       "       'Conservation Biology', 'Discrete & Continuous Dynamical Systems',\n",
       "       'Ecography', 'Ecology and Evolution', 'Ecology Letters',\n",
       "       'Evolution: International Journal of Organic Evolution',\n",
       "       'Evolution Letters', 'Evolutionary Applications',\n",
       "       'Evolutionary Ecology', 'Evolutionary Ecology Research',\n",
       "       'Frontiers in Ecology and Evolution', 'Frontiers in Plant Science',\n",
       "       'Functional Ecology', 'Genetica', 'Genetical Research', 'Genetics',\n",
       "       'Genetics Research', 'Genome', 'Heredity', 'Interface Focus',\n",
       "       'International Journal of Ecology', 'Journal of Arid Land',\n",
       "       'Journal of Ecology', 'Journal of Evolutionary Biology',\n",
       "       'Journal of Heredity',\n",
       "       'Journal of Mathematical Analysis and Applications',\n",
       "       'Journal of Mathematical Biology',\n",
       "       'Journal of The Royal Society Interface',\n",
       "       'Journal of Theoretical Biology',\n",
       "       'Methods in Ecology and Evolution',\n",
       "       'Molecular Biology and Evolution', 'Molecular Ecology', 'Nature',\n",
       "       'Nature Climate Change', 'Nature Communications',\n",
       "       'Nature Ecology & Evolution', 'Nature Reviews Genetics',\n",
       "       'New Phytologist', 'Nonlinearity', 'Oikos',\n",
       "       'Philosophical Transactions of the Royal Society B: Biological Sciences',\n",
       "       'Philosophical Transactions of the Royal Society of London. Series B, Biological Sciences',\n",
       "       'Physical Review Research', 'PLOS Biology',\n",
       "       'PLOS Computational Biology', 'PLOS Genetics', 'PLOS ONE',\n",
       "       'Population Ecology',\n",
       "       'Proceedings of the National Academy of Sciences',\n",
       "       'Proceedings of the National Academy of Sciences of the United States of America',\n",
       "       'Proceedings of the Royal Society B: Biological Sciences',\n",
       "       'Proceedings of the Royal Society of London. Series B: Biological Sciences',\n",
       "       'Proceedings: Biological Sciences',\n",
       "       'Proceedings. Biological Sciences', 'Restoration Ecology',\n",
       "       'Science', 'Selection', 'Spatial Statistics',\n",
       "       'The American Naturalist', 'Theoretical Ecology',\n",
       "       'Theoretical Population Biology', 'Trends in Ecology & Evolution',\n",
       "       'Trends in Genetics', 'Trends in Parasitology', 'nan'],\n",
       "      dtype=object)"
      ]
     },
     "execution_count": 17,
     "metadata": {},
     "output_type": "execute_result"
    }
   ],
   "source": [
    "#pd.DataFrame({\"Journal\":(data[\"Journal\"]).unique()})\n",
    "data[\"Journal\"].unique()"
   ]
  },
  {
   "cell_type": "code",
   "execution_count": 18,
   "metadata": {},
   "outputs": [],
   "source": [
    "# Define the journal names and their abbreviations\n",
    "journals_abbreviations = {\n",
    "    'Annals of the New York Academy of Sciences': 'Ann. N. Y. Acad. Sci.',\n",
    "    'Annual Review of Ecology and Systematics': 'Annu. Rev. Ecol. Syst.',\n",
    "    'Annual Review of Ecology, Evolution, and Systematics': 'Annu. Rev. Ecol. Evol. Syst.',\n",
    "    'Annual Review of Genetics': 'Annu. Rev. Genet.',\n",
    "    'Behavioral Ecology and Sociobiology': 'Behav. Ecol. Sociobiol.',\n",
    "    'BioScience': 'BioScience',\n",
    "    'Bulletin of Mathematical Biology': 'Bull. Math. Biol.',\n",
    "    'Conservation Biology': 'Conserv. Biol.',\n",
    "    'Discrete & Continuous Dynamical Systems': 'Discrete Contin. Dyn. Syst.',## should double check\n",
    "    'Ecography': 'Ecography',\n",
    "    'Ecology and Evolution': 'Ecol. Evol.',\n",
    "    'Ecology Letters': 'Ecol. Lett.',\n",
    "    'Evolution: International Journal of Organic Evolution': 'Evolution',\n",
    "    'Evolution Letters': 'Evol. Lett.',\n",
    "    'Evolutionary Applications': 'Evol. Appl.',\n",
    "    'Evolutionary Ecology': 'Evol. Ecol.',\n",
    "    'Evolutionary Ecology Research': 'Evol. Ecol. Res.',\n",
    "    'Frontiers in Ecology and Evolution': 'Front. Ecol. Evol.',\n",
    "    'Frontiers in Plant Science': 'Front. Plant Sci.',\n",
    "    'Functional Ecology': 'Funct. Ecol.',\n",
    "    'Genetica': 'Genetica',\n",
    "    'Genetical Research': 'Genet. Res. (Camb.)',### does this journal even exist\n",
    "    'Genetics': 'Genetics',\n",
    "    'Genetics Research': 'Genet. Res. (Camb.)',\n",
    "    'Genome': 'Genome',\n",
    "    'Heredity': 'Heredity (Hered.)', ## acording to wiki, but the brackets at the end looks off\n",
    "    'Interface Focus': 'Interface Focus',\n",
    "    'International Journal of Ecology': 'Int. J. Ecol.',   ## couldn't verify this, but should be valid iso4 format\n",
    "    'Journal of Arid Land': 'J. Arid Land',  ## couldn't verify this, but should be valid iso4 format\n",
    "    'Journal of Ecology': 'J. Ecol.',\n",
    "    'Journal of Evolutionary Biology': 'J. Evol. Biol.',\n",
    "    'Journal of Heredity': 'J. Hered.',\n",
    "    'Journal of Mathematical Analysis and Applications': 'J. Math. Anal. Appl.',\n",
    "    'Journal of Mathematical Biology': 'J. Math. Biol.',\n",
    "    'Journal of The Royal Society Interface': 'J. R. Soc. Interface',\n",
    "    'Journal of Theoretical Biology': 'J. Theor. Biol.',\n",
    "    'Methods in Ecology and Evolution': 'Methods Ecol. Evol.',\n",
    "    'Molecular Biology and Evolution': 'Mol. Biol. Evol.',\n",
    "    'Molecular Ecology': 'Mol. Ecol.',\n",
    "    'Nature': 'Nature',\n",
    "    'Nature Climate Change': 'Nat. Clim. Chang.',\n",
    "    'Nature Communications': 'Nat. Commun.',\n",
    "    'Nature Ecology & Evolution': 'Nat. Ecol. Evol.',\n",
    "    'Nature Reviews Genetics': 'Nat. Rev. Genet.',\n",
    "    'New Phytologist': 'New Phytol.',\n",
    "    'Nonlinearity': 'Nonlinearity',\n",
    "    'Oikos': 'Oikos',\n",
    "    'Philosophical Transactions of the Royal Society B: Biological Sciences': 'Phil. Trans. R. Soc. B',\n",
    "    'Philosophical Transactions of the Royal Society of London. Series B, Biological Sciences': 'Philos. Trans. R. Soc. Lond. B Biol. Sci.', ## need to check if this is the same as last time, seems to be so according to https://www.jstor.org/journal/philtranroyasoc2\n",
    "    'Physical Review Research': 'Phys. Rev. Res.',\n",
    "    'PLOS Biology': 'PLOS Biol.',\n",
    "    'PLOS Computational Biology': 'PLOS Comput. Biol.',\n",
    "    'PLOS Genetics': 'PLoS Genet.', ## not sure if the o should be capitalized or not, for the PLOS above, wikipedia has the O capitalized, while for this one, the o is lower cased\n",
    "    'PLOS ONE': 'PLOS ONE',\n",
    "    'Population Ecology': 'Popul. Ecol.', ## flagging this\n",
    "    'Proceedings of the National Academy of Sciences': 'Proc. Natl. Acad. Sci.',\n",
    "    'Proceedings of the National Academy of Sciences of the United States of America': 'Proc. Natl. Acad. Sci. U.S.A.',\n",
    "    'Proceedings of the Royal Society B: Biological Sciences': 'Proc. R. Soc. B',\n",
    "    'Proceedings of the Royal Society of London. Series B: Biological Sciences': 'Proc. R. Soc. Lond. B Biol. Sci.',## cant verify this\n",
    "    'Proceedings: Biological Sciences': 'Proc. Biol. Sci.', ## seems to be the newer version of Proceedings of the Royal Society B: Biological Sciences, as said https://www.jstor.org/journal/procbiolscie\n",
    "    'Restoration Ecology': 'Restor. Ecol.',\n",
    "    'Science': 'Science',\n",
    "    'Selection': 'Selection', ## cant verify this one, seems to be discontinued https://akjournals.com/view/journals/076/076-overview.xml\n",
    "    'Spatial Statistics': 'Spat. Stat.',\n",
    "    'The American Naturalist': 'Am. Nat.',\n",
    "    'Theoretical Ecology': 'Theor. Ecol.',\n",
    "    'Theoretical Population Biology': 'Theor. Popul. Biol.',\n",
    "    'Trends in Ecology & Evolution': 'Trends Ecol. Evol.',\n",
    "    'Trends in Genetics': 'Trends Genet.',\n",
    "    'Trends in Parasitology': 'Trends Parasitol. (Parasitol. Today)' # flagging this, this journal used to be called Parasitology Today\n",
    "}\n",
    "\n",
    "\n",
    "data[\"Journal ISO Abbreviation\"] = data[\"Journal\"].map(journals_abbreviations)\n"
   ]
  },
  {
   "cell_type": "markdown",
   "metadata": {},
   "source": [
    "### 5. Generate Paper Names for the local adaptation excel sheet\n",
    "\n",
    "Logic for generating paper name (will need author names and date):\n",
    "\n",
    "- if one author abc then paper name = \"abc \" + date\n",
    "- if two author abc and def then paper name = \"abc\" + \" & \" + \"def\" + date\n",
    "- if more than two author, such as abc, def,ghi, then paper name = \"abc \" + \" et al. \" + date\n",
    "- if author name is already of form \"abc et al\" then paper name = author name\n"
   ]
  },
  {
   "cell_type": "code",
   "execution_count": 19,
   "metadata": {},
   "outputs": [],
   "source": [
    "\n",
    "\n",
    "def getPaperName(authors, year):\n",
    "    if \"et al\" in authors:\n",
    "        return authors + \" \" + year\n",
    "    \n",
    "    nameList = authors.split(\" and \")\n",
    "\n",
    "    if len(nameList) == 1:\n",
    "        return nameList[0].split(\",\")[0] + \" \" + year\n",
    "    elif len(nameList) == 2:\n",
    "        return nameList[0].split(\",\")[0] + \" & \" + nameList[1].split(\",\")[0] + \" \" + year\n",
    "    elif len(nameList) > 2:\n",
    "        return nameList[0].split(\",\")[0] + \" et al. \" + year\n",
    "    return \"\"\n",
    "\n",
    "\n",
    "data[\"Citation Key\"] = data.apply(lambda row: getPaperName(row[\"Authors\"],str(row[\"Year\"])), axis=1 )\n",
    "\n"
   ]
  },
  {
   "cell_type": "markdown",
   "metadata": {},
   "source": [
    "## Export processed datafile\n"
   ]
  },
  {
   "cell_type": "code",
   "execution_count": 21,
   "metadata": {},
   "outputs": [],
   "source": [
    "exportingDF = data[[\"Citation Key\",'Authors', 'Year', 'Journal', 'Journal ISO Abbreviation', 'Title',\n",
    "       'Abstract', 'Keywords', 'Open Access', 'Reviewer 1', 'Reviewer 2',\n",
    "       'Scope', 'Eco-Evo Focus', 'Life history', 'Ecological Loci/Traits',\n",
    "       'Additional Loci/Traits', 'Mating system', 'Ploidy', 'Selection',\n",
    "       'Spatial Structure ', 'Population Size', 'Ecological Model',\n",
    "       'Recurrent Mutation', 'IBS']]\n",
    "#exportingDF.to_excel(\"./../data.xlsx\")\n"
   ]
  }
 ],
 "metadata": {
  "kernelspec": {
   "display_name": "Python 3",
   "language": "python",
   "name": "python3"
  },
  "language_info": {
   "codemirror_mode": {
    "name": "ipython",
    "version": 3
   },
   "file_extension": ".py",
   "mimetype": "text/x-python",
   "name": "python",
   "nbconvert_exporter": "python",
   "pygments_lexer": "ipython3",
   "version": "3.12.1"
  }
 },
 "nbformat": 4,
 "nbformat_minor": 2
}
