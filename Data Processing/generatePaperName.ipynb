{
 "cells": [
  {
   "cell_type": "markdown",
   "metadata": {},
   "source": [
    "### Generate Paper Names for the local adaptation excel sheet\n",
    "\n",
    "Logic for generating paper name (will need author names and date):\n",
    "- if one author abc then paper name = \"abc \" + date\n",
    "- if two author abc and def then paper name = \"abc\" + \" & \" + \"def\" + date\n",
    "- if more than two author, such as abc, def,ghi, then paper name = \"abc \" + \" et al. \" + date\n",
    "- if author name is already of form \"abc et al\" then paper name = author name"
   ]
  },
  {
   "cell_type": "code",
   "execution_count": 7,
   "metadata": {},
   "outputs": [],
   "source": [
    "import pandas as pd\n",
    "\n",
    "dataset = pd.read_excel(\"data.xlsx\")\n",
    "\n",
    "def getPaperName(authors, year):\n",
    "    if \"et al\" in authors:\n",
    "        return authors + \" \" + year\n",
    "    \n",
    "    nameList = authors.split(\" and \")\n",
    "\n",
    "    if len(nameList) == 1:\n",
    "        return nameList[0].split(\",\")[0] + \" \" + year\n",
    "    elif len(nameList) == 2:\n",
    "        return nameList[0].split(\",\")[0] + \" & \" + nameList[1].split(\",\")[0] + \" \" + year\n",
    "    elif len(nameList) > 2:\n",
    "        return nameList[0].split(\",\")[0] + \" et al. \" + year\n",
    "    return \"\"\n",
    "\n",
    "\n",
    "dataset[\"Paper Name\"] = dataset.apply(lambda row: getPaperName(row[\"Authors\"],str(row[\"Year\"])), axis=1 )"
   ]
  },
  {
   "cell_type": "code",
   "execution_count": 8,
   "metadata": {},
   "outputs": [],
   "source": [
    "dataset.to_excel(\"dataWithAuthorName.xlsx\")"
   ]
  }
 ],
 "metadata": {
  "kernelspec": {
   "display_name": "Python 3",
   "language": "python",
   "name": "python3"
  },
  "language_info": {
   "codemirror_mode": {
    "name": "ipython",
    "version": 3
   },
   "file_extension": ".py",
   "mimetype": "text/x-python",
   "name": "python",
   "nbconvert_exporter": "python",
   "pygments_lexer": "ipython3",
   "version": "3.12.1"
  }
 },
 "nbformat": 4,
 "nbformat_minor": 2
}
